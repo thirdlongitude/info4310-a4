{
 "cells": [
  {
   "cell_type": "code",
   "execution_count": 1,
   "metadata": {},
   "outputs": [],
   "source": [
    "import pandas as pd\n",
    "import itertools\n",
    "from collections import Counter"
   ]
  },
  {
   "cell_type": "code",
   "execution_count": 2,
   "metadata": {
    "scrolled": true
   },
   "outputs": [
    {
     "data": {
      "text/html": [
       "<div>\n",
       "<style scoped>\n",
       "    .dataframe tbody tr th:only-of-type {\n",
       "        vertical-align: middle;\n",
       "    }\n",
       "\n",
       "    .dataframe tbody tr th {\n",
       "        vertical-align: top;\n",
       "    }\n",
       "\n",
       "    .dataframe thead th {\n",
       "        text-align: right;\n",
       "    }\n",
       "</style>\n",
       "<table border=\"1\" class=\"dataframe\">\n",
       "  <thead>\n",
       "    <tr style=\"text-align: right;\">\n",
       "      <th></th>\n",
       "      <th>_id</th>\n",
       "      <th>name</th>\n",
       "      <th>product_description</th>\n",
       "      <th>release_date</th>\n",
       "      <th>product_of_the_day_date</th>\n",
       "      <th>product_ranking</th>\n",
       "      <th>main_image</th>\n",
       "      <th>upvotes</th>\n",
       "      <th>websites</th>\n",
       "      <th>category_tags</th>\n",
       "      <th>hunter</th>\n",
       "      <th>makers</th>\n",
       "    </tr>\n",
       "  </thead>\n",
       "  <tbody>\n",
       "    <tr>\n",
       "      <th>0</th>\n",
       "      <td>https://www.producthunt.com/posts/onsites</td>\n",
       "      <td>Onsites</td>\n",
       "      <td>Onsites helps companies craft the best candida...</td>\n",
       "      <td>2018-02-09 00:00:00.000</td>\n",
       "      <td>2018-02-09</td>\n",
       "      <td>4.0</td>\n",
       "      <td>https://ph-files.imgix.net/b6483b87-d952-40ff-...</td>\n",
       "      <td>315</td>\n",
       "      <td>['https://www.onsites.co', 'https://tophatter....</td>\n",
       "      <td>['PRODUCTIVITY', 'USER EXPERIENCE', 'TECH', 'E...</td>\n",
       "      <td>_shahedk</td>\n",
       "      <td>['jmtame']</td>\n",
       "    </tr>\n",
       "    <tr>\n",
       "      <th>1</th>\n",
       "      <td>https://www.producthunt.com/posts/typito-for-t...</td>\n",
       "      <td>Typito for Teams</td>\n",
       "      <td>With Typito for Teams, you can invite your tea...</td>\n",
       "      <td>2018-11-16 00:00:00.000</td>\n",
       "      <td>2018-11-16</td>\n",
       "      <td>3.0</td>\n",
       "      <td>https://ph-files.imgix.net/cf9a013a-8ef2-460a-...</td>\n",
       "      <td>441</td>\n",
       "      <td>['https://typito.com/teams', 'http://help.typi...</td>\n",
       "      <td>['PRODUCTIVITY', 'SAAS', 'MARKETING', 'DESIGN ...</td>\n",
       "      <td>kevin</td>\n",
       "      <td>['aswin_asok1', 'tejazz89', 'basim_ahmad', 'an...</td>\n",
       "    </tr>\n",
       "    <tr>\n",
       "      <th>2</th>\n",
       "      <td>https://www.producthunt.com/posts/hazel-4-0</td>\n",
       "      <td>Hazel 4.0</td>\n",
       "      <td>NaN</td>\n",
       "      <td>2016-05-04 00:00:00.000</td>\n",
       "      <td>2016-05-04</td>\n",
       "      <td>3.0</td>\n",
       "      <td>https://ph-files.imgix.net/4ec0e56d-7846-4f89-...</td>\n",
       "      <td>620</td>\n",
       "      <td>['https://www.noodlesoft.com/whatsnew/']</td>\n",
       "      <td>['MAC', 'TECH']</td>\n",
       "      <td>t55</td>\n",
       "      <td>[]</td>\n",
       "    </tr>\n",
       "    <tr>\n",
       "      <th>3</th>\n",
       "      <td>https://www.producthunt.com/posts/uhmmm</td>\n",
       "      <td>UHMMM</td>\n",
       "      <td>Those silent moments on online meetings can ge...</td>\n",
       "      <td>2020-10-02 00:00:00.000</td>\n",
       "      <td>2020-10-02</td>\n",
       "      <td>4.0</td>\n",
       "      <td>https://ph-files.imgix.net/dd425c23-ae92-4d1c-...</td>\n",
       "      <td>324</td>\n",
       "      <td>['https://www.uhmmm.app/']</td>\n",
       "      <td>['MUSIC', 'MEETINGS']</td>\n",
       "      <td>jonathan_harel1</td>\n",
       "      <td>['jonathan_harel1']</td>\n",
       "    </tr>\n",
       "    <tr>\n",
       "      <th>4</th>\n",
       "      <td>https://www.producthunt.com/posts/numerous</td>\n",
       "      <td>Numerous</td>\n",
       "      <td>NaN</td>\n",
       "      <td>2014-05-01 00:00:00.000</td>\n",
       "      <td>2014-05-01</td>\n",
       "      <td>2.0</td>\n",
       "      <td>https://ph-files.imgix.net/0de712b1-1da3-4204-...</td>\n",
       "      <td>107</td>\n",
       "      <td>['http://numerousapp.com/', 'https://itunes.ap...</td>\n",
       "      <td>['IPHONE', 'APPLE WATCH', 'TECH', 'IPAD', 'AND...</td>\n",
       "      <td>alwaysunday</td>\n",
       "      <td>['cwood', 'scalo', 'colinloretz']</td>\n",
       "    </tr>\n",
       "  </tbody>\n",
       "</table>\n",
       "</div>"
      ],
      "text/plain": [
       "                                                 _id              name  \\\n",
       "0          https://www.producthunt.com/posts/onsites           Onsites   \n",
       "1  https://www.producthunt.com/posts/typito-for-t...  Typito for Teams   \n",
       "2        https://www.producthunt.com/posts/hazel-4-0         Hazel 4.0   \n",
       "3            https://www.producthunt.com/posts/uhmmm             UHMMM   \n",
       "4         https://www.producthunt.com/posts/numerous          Numerous   \n",
       "\n",
       "                                 product_description             release_date  \\\n",
       "0  Onsites helps companies craft the best candida...  2018-02-09 00:00:00.000   \n",
       "1  With Typito for Teams, you can invite your tea...  2018-11-16 00:00:00.000   \n",
       "2                                                NaN  2016-05-04 00:00:00.000   \n",
       "3  Those silent moments on online meetings can ge...  2020-10-02 00:00:00.000   \n",
       "4                                                NaN  2014-05-01 00:00:00.000   \n",
       "\n",
       "  product_of_the_day_date  product_ranking  \\\n",
       "0              2018-02-09              4.0   \n",
       "1              2018-11-16              3.0   \n",
       "2              2016-05-04              3.0   \n",
       "3              2020-10-02              4.0   \n",
       "4              2014-05-01              2.0   \n",
       "\n",
       "                                          main_image  upvotes  \\\n",
       "0  https://ph-files.imgix.net/b6483b87-d952-40ff-...      315   \n",
       "1  https://ph-files.imgix.net/cf9a013a-8ef2-460a-...      441   \n",
       "2  https://ph-files.imgix.net/4ec0e56d-7846-4f89-...      620   \n",
       "3  https://ph-files.imgix.net/dd425c23-ae92-4d1c-...      324   \n",
       "4  https://ph-files.imgix.net/0de712b1-1da3-4204-...      107   \n",
       "\n",
       "                                            websites  \\\n",
       "0  ['https://www.onsites.co', 'https://tophatter....   \n",
       "1  ['https://typito.com/teams', 'http://help.typi...   \n",
       "2           ['https://www.noodlesoft.com/whatsnew/']   \n",
       "3                         ['https://www.uhmmm.app/']   \n",
       "4  ['http://numerousapp.com/', 'https://itunes.ap...   \n",
       "\n",
       "                                       category_tags           hunter  \\\n",
       "0  ['PRODUCTIVITY', 'USER EXPERIENCE', 'TECH', 'E...         _shahedk   \n",
       "1  ['PRODUCTIVITY', 'SAAS', 'MARKETING', 'DESIGN ...            kevin   \n",
       "2                                    ['MAC', 'TECH']              t55   \n",
       "3                              ['MUSIC', 'MEETINGS']  jonathan_harel1   \n",
       "4  ['IPHONE', 'APPLE WATCH', 'TECH', 'IPAD', 'AND...      alwaysunday   \n",
       "\n",
       "                                              makers  \n",
       "0                                         ['jmtame']  \n",
       "1  ['aswin_asok1', 'tejazz89', 'basim_ahmad', 'an...  \n",
       "2                                                 []  \n",
       "3                                ['jonathan_harel1']  \n",
       "4                  ['cwood', 'scalo', 'colinloretz']  "
      ]
     },
     "execution_count": 2,
     "metadata": {},
     "output_type": "execute_result"
    }
   ],
   "source": [
    "data = pd.read_csv(\"output2.csv\")\n",
    "data.head(5)"
   ]
  },
  {
   "cell_type": "markdown",
   "metadata": {},
   "source": [
    "## Process categories\n",
    "- Turn from string into list of strings\n",
    "- Remove quotes and lowercase"
   ]
  },
  {
   "cell_type": "code",
   "execution_count": 3,
   "metadata": {},
   "outputs": [
    {
     "name": "stdout",
     "output_type": "stream",
     "text": [
      "94 rows with no category\n"
     ]
    }
   ],
   "source": [
    "print(str(len(data[data.category_tags == '[]'])) + ' rows with no category')"
   ]
  },
  {
   "cell_type": "code",
   "execution_count": 4,
   "metadata": {},
   "outputs": [
    {
     "data": {
      "text/html": [
       "<div>\n",
       "<style scoped>\n",
       "    .dataframe tbody tr th:only-of-type {\n",
       "        vertical-align: middle;\n",
       "    }\n",
       "\n",
       "    .dataframe tbody tr th {\n",
       "        vertical-align: top;\n",
       "    }\n",
       "\n",
       "    .dataframe thead th {\n",
       "        text-align: right;\n",
       "    }\n",
       "</style>\n",
       "<table border=\"1\" class=\"dataframe\">\n",
       "  <thead>\n",
       "    <tr style=\"text-align: right;\">\n",
       "      <th></th>\n",
       "      <th>_id</th>\n",
       "      <th>name</th>\n",
       "      <th>product_description</th>\n",
       "      <th>release_date</th>\n",
       "      <th>product_of_the_day_date</th>\n",
       "      <th>product_ranking</th>\n",
       "      <th>main_image</th>\n",
       "      <th>upvotes</th>\n",
       "      <th>websites</th>\n",
       "      <th>category_tags</th>\n",
       "      <th>hunter</th>\n",
       "      <th>makers</th>\n",
       "    </tr>\n",
       "  </thead>\n",
       "  <tbody>\n",
       "    <tr>\n",
       "      <th>0</th>\n",
       "      <td>https://www.producthunt.com/posts/onsites</td>\n",
       "      <td>Onsites</td>\n",
       "      <td>Onsites helps companies craft the best candida...</td>\n",
       "      <td>2018-02-09 00:00:00.000</td>\n",
       "      <td>2018-02-09</td>\n",
       "      <td>4.0</td>\n",
       "      <td>https://ph-files.imgix.net/b6483b87-d952-40ff-...</td>\n",
       "      <td>315</td>\n",
       "      <td>['https://www.onsites.co', 'https://tophatter....</td>\n",
       "      <td>['PRODUCTIVITY',  'USER EXPERIENCE',  'TECH', ...</td>\n",
       "      <td>_shahedk</td>\n",
       "      <td>['jmtame']</td>\n",
       "    </tr>\n",
       "    <tr>\n",
       "      <th>1</th>\n",
       "      <td>https://www.producthunt.com/posts/typito-for-t...</td>\n",
       "      <td>Typito for Teams</td>\n",
       "      <td>With Typito for Teams, you can invite your tea...</td>\n",
       "      <td>2018-11-16 00:00:00.000</td>\n",
       "      <td>2018-11-16</td>\n",
       "      <td>3.0</td>\n",
       "      <td>https://ph-files.imgix.net/cf9a013a-8ef2-460a-...</td>\n",
       "      <td>441</td>\n",
       "      <td>['https://typito.com/teams', 'http://help.typi...</td>\n",
       "      <td>['PRODUCTIVITY',  'SAAS',  'MARKETING',  'DESI...</td>\n",
       "      <td>kevin</td>\n",
       "      <td>['aswin_asok1', 'tejazz89', 'basim_ahmad', 'an...</td>\n",
       "    </tr>\n",
       "    <tr>\n",
       "      <th>2</th>\n",
       "      <td>https://www.producthunt.com/posts/hazel-4-0</td>\n",
       "      <td>Hazel 4.0</td>\n",
       "      <td>NaN</td>\n",
       "      <td>2016-05-04 00:00:00.000</td>\n",
       "      <td>2016-05-04</td>\n",
       "      <td>3.0</td>\n",
       "      <td>https://ph-files.imgix.net/4ec0e56d-7846-4f89-...</td>\n",
       "      <td>620</td>\n",
       "      <td>['https://www.noodlesoft.com/whatsnew/']</td>\n",
       "      <td>['MAC',  'TECH']</td>\n",
       "      <td>t55</td>\n",
       "      <td>[]</td>\n",
       "    </tr>\n",
       "    <tr>\n",
       "      <th>3</th>\n",
       "      <td>https://www.producthunt.com/posts/uhmmm</td>\n",
       "      <td>UHMMM</td>\n",
       "      <td>Those silent moments on online meetings can ge...</td>\n",
       "      <td>2020-10-02 00:00:00.000</td>\n",
       "      <td>2020-10-02</td>\n",
       "      <td>4.0</td>\n",
       "      <td>https://ph-files.imgix.net/dd425c23-ae92-4d1c-...</td>\n",
       "      <td>324</td>\n",
       "      <td>['https://www.uhmmm.app/']</td>\n",
       "      <td>['MUSIC',  'MEETINGS']</td>\n",
       "      <td>jonathan_harel1</td>\n",
       "      <td>['jonathan_harel1']</td>\n",
       "    </tr>\n",
       "    <tr>\n",
       "      <th>4</th>\n",
       "      <td>https://www.producthunt.com/posts/numerous</td>\n",
       "      <td>Numerous</td>\n",
       "      <td>NaN</td>\n",
       "      <td>2014-05-01 00:00:00.000</td>\n",
       "      <td>2014-05-01</td>\n",
       "      <td>2.0</td>\n",
       "      <td>https://ph-files.imgix.net/0de712b1-1da3-4204-...</td>\n",
       "      <td>107</td>\n",
       "      <td>['http://numerousapp.com/', 'https://itunes.ap...</td>\n",
       "      <td>['IPHONE',  'APPLE WATCH',  'TECH',  'IPAD',  ...</td>\n",
       "      <td>alwaysunday</td>\n",
       "      <td>['cwood', 'scalo', 'colinloretz']</td>\n",
       "    </tr>\n",
       "  </tbody>\n",
       "</table>\n",
       "</div>"
      ],
      "text/plain": [
       "                                                 _id              name  \\\n",
       "0          https://www.producthunt.com/posts/onsites           Onsites   \n",
       "1  https://www.producthunt.com/posts/typito-for-t...  Typito for Teams   \n",
       "2        https://www.producthunt.com/posts/hazel-4-0         Hazel 4.0   \n",
       "3            https://www.producthunt.com/posts/uhmmm             UHMMM   \n",
       "4         https://www.producthunt.com/posts/numerous          Numerous   \n",
       "\n",
       "                                 product_description             release_date  \\\n",
       "0  Onsites helps companies craft the best candida...  2018-02-09 00:00:00.000   \n",
       "1  With Typito for Teams, you can invite your tea...  2018-11-16 00:00:00.000   \n",
       "2                                                NaN  2016-05-04 00:00:00.000   \n",
       "3  Those silent moments on online meetings can ge...  2020-10-02 00:00:00.000   \n",
       "4                                                NaN  2014-05-01 00:00:00.000   \n",
       "\n",
       "  product_of_the_day_date  product_ranking  \\\n",
       "0              2018-02-09              4.0   \n",
       "1              2018-11-16              3.0   \n",
       "2              2016-05-04              3.0   \n",
       "3              2020-10-02              4.0   \n",
       "4              2014-05-01              2.0   \n",
       "\n",
       "                                          main_image  upvotes  \\\n",
       "0  https://ph-files.imgix.net/b6483b87-d952-40ff-...      315   \n",
       "1  https://ph-files.imgix.net/cf9a013a-8ef2-460a-...      441   \n",
       "2  https://ph-files.imgix.net/4ec0e56d-7846-4f89-...      620   \n",
       "3  https://ph-files.imgix.net/dd425c23-ae92-4d1c-...      324   \n",
       "4  https://ph-files.imgix.net/0de712b1-1da3-4204-...      107   \n",
       "\n",
       "                                            websites  \\\n",
       "0  ['https://www.onsites.co', 'https://tophatter....   \n",
       "1  ['https://typito.com/teams', 'http://help.typi...   \n",
       "2           ['https://www.noodlesoft.com/whatsnew/']   \n",
       "3                         ['https://www.uhmmm.app/']   \n",
       "4  ['http://numerousapp.com/', 'https://itunes.ap...   \n",
       "\n",
       "                                       category_tags           hunter  \\\n",
       "0  ['PRODUCTIVITY',  'USER EXPERIENCE',  'TECH', ...         _shahedk   \n",
       "1  ['PRODUCTIVITY',  'SAAS',  'MARKETING',  'DESI...            kevin   \n",
       "2                                   ['MAC',  'TECH']              t55   \n",
       "3                             ['MUSIC',  'MEETINGS']  jonathan_harel1   \n",
       "4  ['IPHONE',  'APPLE WATCH',  'TECH',  'IPAD',  ...      alwaysunday   \n",
       "\n",
       "                                              makers  \n",
       "0                                         ['jmtame']  \n",
       "1  ['aswin_asok1', 'tejazz89', 'basim_ahmad', 'an...  \n",
       "2                                                 []  \n",
       "3                                ['jonathan_harel1']  \n",
       "4                  ['cwood', 'scalo', 'colinloretz']  "
      ]
     },
     "execution_count": 4,
     "metadata": {},
     "output_type": "execute_result"
    }
   ],
   "source": [
    "# parse category into list of strings\n",
    "data['category_tags'] = data.category_tags.apply(lambda x: x[1:-1].split(','))\n",
    "data.head(5)"
   ]
  },
  {
   "cell_type": "code",
   "execution_count": 5,
   "metadata": {},
   "outputs": [
    {
     "data": {
      "text/plain": [
       "[\"'PRODUCTIVITY'\",\n",
       " \" 'USER EXPERIENCE'\",\n",
       " \" 'TECH'\",\n",
       " \" 'EMAIL'\",\n",
       " \" 'HIRING AND RECRUITING'\"]"
      ]
     },
     "execution_count": 5,
     "metadata": {},
     "output_type": "execute_result"
    }
   ],
   "source": [
    "data.category_tags[0]"
   ]
  },
  {
   "cell_type": "code",
   "execution_count": 6,
   "metadata": {},
   "outputs": [
    {
     "data": {
      "text/plain": [
       "['productivity', 'user experience', 'tech', 'email', 'hiring and recruiting']"
      ]
     },
     "execution_count": 6,
     "metadata": {},
     "output_type": "execute_result"
    }
   ],
   "source": [
    "# strip spaces and quotes, lowercase everything\n",
    "data['category_tags'] = data.category_tags.apply(lambda x: [ e.strip(\" \\'\").lower() for e in x])\n",
    "data.category_tags[0]"
   ]
  },
  {
   "cell_type": "code",
   "execution_count": 7,
   "metadata": {},
   "outputs": [
    {
     "data": {
      "text/plain": [
       "['']"
      ]
     },
     "execution_count": 7,
     "metadata": {},
     "output_type": "execute_result"
    }
   ],
   "source": [
    "# example of a row with no category tags\n",
    "data.category_tags[5]"
   ]
  },
  {
   "cell_type": "code",
   "execution_count": 8,
   "metadata": {
    "scrolled": false
   },
   "outputs": [
    {
     "data": {
      "text/html": [
       "<div>\n",
       "<style scoped>\n",
       "    .dataframe tbody tr th:only-of-type {\n",
       "        vertical-align: middle;\n",
       "    }\n",
       "\n",
       "    .dataframe tbody tr th {\n",
       "        vertical-align: top;\n",
       "    }\n",
       "\n",
       "    .dataframe thead th {\n",
       "        text-align: right;\n",
       "    }\n",
       "</style>\n",
       "<table border=\"1\" class=\"dataframe\">\n",
       "  <thead>\n",
       "    <tr style=\"text-align: right;\">\n",
       "      <th></th>\n",
       "      <th>_id</th>\n",
       "      <th>name</th>\n",
       "      <th>product_description</th>\n",
       "      <th>release_date</th>\n",
       "      <th>product_of_the_day_date</th>\n",
       "      <th>product_ranking</th>\n",
       "      <th>main_image</th>\n",
       "      <th>upvotes</th>\n",
       "      <th>websites</th>\n",
       "      <th>category_tags</th>\n",
       "      <th>hunter</th>\n",
       "      <th>makers</th>\n",
       "    </tr>\n",
       "  </thead>\n",
       "  <tbody>\n",
       "    <tr>\n",
       "      <th>0</th>\n",
       "      <td>https://www.producthunt.com/posts/onsites</td>\n",
       "      <td>Onsites</td>\n",
       "      <td>Onsites helps companies craft the best candida...</td>\n",
       "      <td>2018-02-09 00:00:00.000</td>\n",
       "      <td>2018-02-09</td>\n",
       "      <td>4.0</td>\n",
       "      <td>https://ph-files.imgix.net/b6483b87-d952-40ff-...</td>\n",
       "      <td>315</td>\n",
       "      <td>['https://www.onsites.co', 'https://tophatter....</td>\n",
       "      <td>[productivity, user experience, tech, email, h...</td>\n",
       "      <td>_shahedk</td>\n",
       "      <td>['jmtame']</td>\n",
       "    </tr>\n",
       "    <tr>\n",
       "      <th>1</th>\n",
       "      <td>https://www.producthunt.com/posts/typito-for-t...</td>\n",
       "      <td>Typito for Teams</td>\n",
       "      <td>With Typito for Teams, you can invite your tea...</td>\n",
       "      <td>2018-11-16 00:00:00.000</td>\n",
       "      <td>2018-11-16</td>\n",
       "      <td>3.0</td>\n",
       "      <td>https://ph-files.imgix.net/cf9a013a-8ef2-460a-...</td>\n",
       "      <td>441</td>\n",
       "      <td>['https://typito.com/teams', 'http://help.typi...</td>\n",
       "      <td>[productivity, saas, marketing, design tools, ...</td>\n",
       "      <td>kevin</td>\n",
       "      <td>['aswin_asok1', 'tejazz89', 'basim_ahmad', 'an...</td>\n",
       "    </tr>\n",
       "    <tr>\n",
       "      <th>2</th>\n",
       "      <td>https://www.producthunt.com/posts/hazel-4-0</td>\n",
       "      <td>Hazel 4.0</td>\n",
       "      <td>NaN</td>\n",
       "      <td>2016-05-04 00:00:00.000</td>\n",
       "      <td>2016-05-04</td>\n",
       "      <td>3.0</td>\n",
       "      <td>https://ph-files.imgix.net/4ec0e56d-7846-4f89-...</td>\n",
       "      <td>620</td>\n",
       "      <td>['https://www.noodlesoft.com/whatsnew/']</td>\n",
       "      <td>[mac, tech]</td>\n",
       "      <td>t55</td>\n",
       "      <td>[]</td>\n",
       "    </tr>\n",
       "    <tr>\n",
       "      <th>3</th>\n",
       "      <td>https://www.producthunt.com/posts/uhmmm</td>\n",
       "      <td>UHMMM</td>\n",
       "      <td>Those silent moments on online meetings can ge...</td>\n",
       "      <td>2020-10-02 00:00:00.000</td>\n",
       "      <td>2020-10-02</td>\n",
       "      <td>4.0</td>\n",
       "      <td>https://ph-files.imgix.net/dd425c23-ae92-4d1c-...</td>\n",
       "      <td>324</td>\n",
       "      <td>['https://www.uhmmm.app/']</td>\n",
       "      <td>[music, meetings]</td>\n",
       "      <td>jonathan_harel1</td>\n",
       "      <td>['jonathan_harel1']</td>\n",
       "    </tr>\n",
       "    <tr>\n",
       "      <th>4</th>\n",
       "      <td>https://www.producthunt.com/posts/numerous</td>\n",
       "      <td>Numerous</td>\n",
       "      <td>NaN</td>\n",
       "      <td>2014-05-01 00:00:00.000</td>\n",
       "      <td>2014-05-01</td>\n",
       "      <td>2.0</td>\n",
       "      <td>https://ph-files.imgix.net/0de712b1-1da3-4204-...</td>\n",
       "      <td>107</td>\n",
       "      <td>['http://numerousapp.com/', 'https://itunes.ap...</td>\n",
       "      <td>[iphone, apple watch, tech, ipad, android]</td>\n",
       "      <td>alwaysunday</td>\n",
       "      <td>['cwood', 'scalo', 'colinloretz']</td>\n",
       "    </tr>\n",
       "  </tbody>\n",
       "</table>\n",
       "</div>"
      ],
      "text/plain": [
       "                                                 _id              name  \\\n",
       "0          https://www.producthunt.com/posts/onsites           Onsites   \n",
       "1  https://www.producthunt.com/posts/typito-for-t...  Typito for Teams   \n",
       "2        https://www.producthunt.com/posts/hazel-4-0         Hazel 4.0   \n",
       "3            https://www.producthunt.com/posts/uhmmm             UHMMM   \n",
       "4         https://www.producthunt.com/posts/numerous          Numerous   \n",
       "\n",
       "                                 product_description             release_date  \\\n",
       "0  Onsites helps companies craft the best candida...  2018-02-09 00:00:00.000   \n",
       "1  With Typito for Teams, you can invite your tea...  2018-11-16 00:00:00.000   \n",
       "2                                                NaN  2016-05-04 00:00:00.000   \n",
       "3  Those silent moments on online meetings can ge...  2020-10-02 00:00:00.000   \n",
       "4                                                NaN  2014-05-01 00:00:00.000   \n",
       "\n",
       "  product_of_the_day_date  product_ranking  \\\n",
       "0              2018-02-09              4.0   \n",
       "1              2018-11-16              3.0   \n",
       "2              2016-05-04              3.0   \n",
       "3              2020-10-02              4.0   \n",
       "4              2014-05-01              2.0   \n",
       "\n",
       "                                          main_image  upvotes  \\\n",
       "0  https://ph-files.imgix.net/b6483b87-d952-40ff-...      315   \n",
       "1  https://ph-files.imgix.net/cf9a013a-8ef2-460a-...      441   \n",
       "2  https://ph-files.imgix.net/4ec0e56d-7846-4f89-...      620   \n",
       "3  https://ph-files.imgix.net/dd425c23-ae92-4d1c-...      324   \n",
       "4  https://ph-files.imgix.net/0de712b1-1da3-4204-...      107   \n",
       "\n",
       "                                            websites  \\\n",
       "0  ['https://www.onsites.co', 'https://tophatter....   \n",
       "1  ['https://typito.com/teams', 'http://help.typi...   \n",
       "2           ['https://www.noodlesoft.com/whatsnew/']   \n",
       "3                         ['https://www.uhmmm.app/']   \n",
       "4  ['http://numerousapp.com/', 'https://itunes.ap...   \n",
       "\n",
       "                                       category_tags           hunter  \\\n",
       "0  [productivity, user experience, tech, email, h...         _shahedk   \n",
       "1  [productivity, saas, marketing, design tools, ...            kevin   \n",
       "2                                        [mac, tech]              t55   \n",
       "3                                  [music, meetings]  jonathan_harel1   \n",
       "4         [iphone, apple watch, tech, ipad, android]      alwaysunday   \n",
       "\n",
       "                                              makers  \n",
       "0                                         ['jmtame']  \n",
       "1  ['aswin_asok1', 'tejazz89', 'basim_ahmad', 'an...  \n",
       "2                                                 []  \n",
       "3                                ['jonathan_harel1']  \n",
       "4                  ['cwood', 'scalo', 'colinloretz']  "
      ]
     },
     "execution_count": 8,
     "metadata": {},
     "output_type": "execute_result"
    }
   ],
   "source": [
    "data.head(5)"
   ]
  },
  {
   "cell_type": "code",
   "execution_count": 9,
   "metadata": {
    "scrolled": true
   },
   "outputs": [
    {
     "data": {
      "text/plain": [
       "244"
      ]
     },
     "execution_count": 9,
     "metadata": {},
     "output_type": "execute_result"
    }
   ],
   "source": [
    "len(set(itertools.chain.from_iterable(data.category_tags)))"
   ]
  },
  {
   "cell_type": "code",
   "execution_count": 10,
   "metadata": {},
   "outputs": [],
   "source": [
    "categories_to_exclude = ['airbnb', 'alexa skills', 'amazon', 'apple', 'apple tv', 'apple watch', 'android', 'anonymous',\n",
    "                         'chrome extensions', 'custom iphone keyboards', 'mac', 'linux', 'windows', 'djing', 'donald trump',\n",
    "                         'drake', 'dropbox', 'emulators', 'facebook', 'facebook messenger', 'femtech', 'fps', 'funny',\n",
    "                         'firefox extensions',\n",
    "                         'github', 'google', 'google home', 'htc vive', 'imessage apps', 'instagram', 'ipad', 'iphone',\n",
    "                         'kanye west', 'kindle', 'linkedin', 'mac menu bar apps', 'medium', 'netflix', 'oculus rift',\n",
    "                         'on-demand', 'party', 'pc',\n",
    "                         'playstation vr', 'pokemon', 'ps4', 'quantified self', 'reddit', 'safari extensions', 'slack',\n",
    "                         'snapchat', 'soundcloud', 'space', 'side projects', 'social impact',\n",
    "                         'spotify', 'squarespace', 'star wars', 'twitter', 'uber', 'web3', 'wordpress', 'work in progress',\n",
    "                         'xbox one', 'youtube']\n",
    "categories_books = ['yoga books', 'thriller books', 'startup books', 'science books', 'novels', 'horror books', 'history books',\n",
    "                    'fashion books', 'design books', 'crime books', 'cooking books', 'comics and graphic novels', 'art books',\n",
    "                    'adult coloring books']\n",
    "categories_games = ['action games', 'adventure games', 'board games', 'card games', 'crafting games', 'driving games',\n",
    "                    'fantasy games', 'fighting games', 'free games', 'funny games', 'historical games', 'indie games',\n",
    "                    'isometric games', 'mmos', 'open world games', 'puzzle games', 'retro games', 'rpgs', 'sci-fi games',\n",
    "                    'simulation games', 'sports games', 'strategy games', 'tabletop games', 'word games', 'zombie games']\n",
    "categories_tools_services = ['ad blockers', 'arkit', 'apis', 'bots', 'artificial intelligence', 'csm tools', 'design tools',\n",
    "                    'developer tools', 'emoji', 'icons', 'maker tools', 'open source', 'photoshop', 'prototyping', 'saas',\n",
    "                    'social media tools', 'software engineering', 'text editors', 'virtual assistants', 'wallpaper', 'wi-fi',\n",
    "                    'writing tools', 'typography','no-code', 'a/b testing', 'delivery', 'moving and storage', 'product hunt',\n",
    "                    'touch bar apps', 'weather apps', 'web app', 'augmented reality', 'diversity and inclusion',\n",
    "                    'hiring and recruiting', 'legal', 'virtual reality', 'privacy']\n",
    "categories_sports = ['basketball', 'biking', 'football', 'skateboarding', 'surfing', 'swimming', 'soccer']\n",
    "categories_education = ['kids', 'learn a language', 'startup lessons']\n",
    "categories_hardware = ['3d printing', 'batteries', 'drones', 'gear vr', 'internet of things', 'phone cases', 'robots',\n",
    "                       'wearables', 'cars']\n",
    "categories_marketing = ['advertising', 'branding', 'email marketing', 'growth hacking', 'growth hacks', 'platformers',\n",
    "                        'public relations', 'seo tools', 'user experience', 'analytics']\n",
    "categories_productivity = ['alarm clocks', 'calendar and scheduling', 'note', 'remote work tools', 'spreadsheets',\n",
    "                           'standing desks', 'task management', 'time tracking']\n",
    "categories_travel = ['backpacks', 'maps', 'nomad lifestyle', 'outdoors', 'transportation']\n",
    "categories_communication = ['customer communication', 'dating', 'email', 'email newsletters', 'meetings', 'messaging',\n",
    "                            'telegram', 'news', 'couples', 'parenting']\n",
    "categories_health = ['biohacking', 'cannabis', 'green tech', 'health and fitness', 'meditation', 'medtech', 'coffee', 'cooking',\n",
    "                     'drinking', 'wine']\n",
    "categories_finance = ['charity and giving', 'crowdfunding', 'crypto', 'e-commerce', 'fintech', 'freelance', 'investing', 'money',\n",
    "                      'payment', 'sales', 'venture capital', 'blockstack']\n",
    "categories_pets = ['cats', 'dogs']\n",
    "categories_media = ['art', 'audio and voice', 'tv', 'video streaming', 'celebrities', 'gifs', 'movies', 'music', 'photography',\n",
    "                    'sketch']\n",
    "categories_fashion = ['jewelry', 'sneakers and shoes', 'beauty']\n",
    "category_tag_dict = {'books': categories_books, 'games': categories_games, 'tools and services': categories_tools_services,\n",
    "                     'sports': categories_sports, 'education': categories_education, 'hardware': categories_hardware,\n",
    "                     'marketing': categories_marketing, 'productivity': categories_productivity, 'travel': categories_travel,\n",
    "                     'communication': categories_communication, 'health': categories_health, 'finance': categories_finance,\n",
    "                     'pets': categories_pets, 'media and entertainment': categories_media, 'fashion': categories_fashion}"
   ]
  },
  {
   "cell_type": "code",
   "execution_count": 11,
   "metadata": {},
   "outputs": [
    {
     "name": "stdout",
     "output_type": "stream",
     "text": [
      "7306\n",
      "4984\n",
      "1920\n"
     ]
    }
   ],
   "source": [
    "one_cat_count = 0\n",
    "two_cat_count = 0\n",
    "three_cat_count = 0\n",
    "\n",
    "for i in range(len(data.category_tags)):\n",
    "    row = data.category_tags[i]\n",
    "    row = ['' if tag in categories_to_exclude else tag for tag in row]\n",
    "    for k, v in category_tag_dict.items():\n",
    "        row = [k if tag in v else tag for tag in row]\n",
    "    row = list(set(row)) # remove duplicates\n",
    "    row = [tag for tag in row if tag != ''] # remove empty tags\n",
    "    if len(row) > 1:\n",
    "        row = [tag for tag in row if tag != 'tech'] # remove tech tag if it's not the only tag present\n",
    "    if len(row) == 1 and row[0] == '':\n",
    "        row[0] = 'tech'\n",
    "    elif len(row) == 0:\n",
    "        row.append('tech')\n",
    "    \n",
    "    if len(row) == 1:\n",
    "        one_cat_count += 1\n",
    "    elif len(row) == 2:\n",
    "        two_cat_count += 1\n",
    "    elif len(row) == 3:\n",
    "        three_cat_count += 1\n",
    "    data.at[i, 'category_tags'] = row\n",
    "    \n",
    "print(one_cat_count)\n",
    "print(two_cat_count)\n",
    "print(three_cat_count)"
   ]
  },
  {
   "cell_type": "code",
   "execution_count": 12,
   "metadata": {},
   "outputs": [
    {
     "data": {
      "text/plain": [
       "19"
      ]
     },
     "execution_count": 12,
     "metadata": {},
     "output_type": "execute_result"
    }
   ],
   "source": [
    "len(set(itertools.chain.from_iterable(data.category_tags)))"
   ]
  },
  {
   "cell_type": "code",
   "execution_count": 13,
   "metadata": {
    "scrolled": true
   },
   "outputs": [
    {
     "data": {
      "text/plain": [
       "['finance',\n",
       " 'health',\n",
       " 'communication',\n",
       " 'media and entertainment',\n",
       " 'education',\n",
       " 'productivity',\n",
       " 'tools and services']"
      ]
     },
     "execution_count": 13,
     "metadata": {},
     "output_type": "execute_result"
    }
   ],
   "source": [
    "max(data.category_tags, key=len)"
   ]
  },
  {
   "cell_type": "code",
   "execution_count": 14,
   "metadata": {},
   "outputs": [
    {
     "data": {
      "text/plain": [
       "Counter({'books': 310,\n",
       "         'communication': 1463,\n",
       "         'education': 680,\n",
       "         'events': 59,\n",
       "         'fashion': 110,\n",
       "         'finance': 1503,\n",
       "         'games': 239,\n",
       "         'hardware': 542,\n",
       "         'health': 592,\n",
       "         'home': 275,\n",
       "         'marketing': 3052,\n",
       "         'media and entertainment': 1362,\n",
       "         'pets': 39,\n",
       "         'politics': 40,\n",
       "         'productivity': 4051,\n",
       "         'sports': 53,\n",
       "         'tech': 1782,\n",
       "         'tools and services': 8342,\n",
       "         'travel': 504})"
      ]
     },
     "execution_count": 14,
     "metadata": {},
     "output_type": "execute_result"
    }
   ],
   "source": [
    "Counter(list(itertools.chain.from_iterable(data.category_tags)))"
   ]
  },
  {
   "cell_type": "markdown",
   "metadata": {},
   "source": [
    "- Only one tag `tools and services`: 2645\n",
    "    - Remove `tools and services` from rows that have other tags\n",
    "- Only one tag `productivity`: 1990\n",
    "    - Remove `productivity` from rows that have other tags\n",
    "- Only one tag `marketing`: 1361\n",
    "    - Remove `marketing` from rows that have other tags\n",
    "- Less than 100 occurrences: `events`, `pets`, `politics`, `sports`\n",
    "    - Only one tag `events`: 8\n",
    "    - Only one tag `pets`: 10\n",
    "    - Only one tag `politics`: 16\n",
    "    - Only one tag `sports`: 10\n",
    "    - Assign rows with only one of these tags to `tech` & remove from other rows"
   ]
  },
  {
   "cell_type": "code",
   "execution_count": 15,
   "metadata": {},
   "outputs": [],
   "source": [
    "for i in range(len(data.category_tags)):\n",
    "    row = data.category_tags[i]\n",
    "    if len(row) > 1:\n",
    "        row = [tag for tag in row if tag not in ['events', 'pets', 'politics', 'sports']]\n",
    "    if len(row) > 1:\n",
    "        row = [tag for tag in row if tag != 'tools and services']\n",
    "    if len(row) > 1:\n",
    "        row = [tag for tag in row if tag != 'productivity']\n",
    "    if len(row) > 1:\n",
    "        row = [tag for tag in row if tag != 'marketing']\n",
    "    if len(row) == 1 and row[0] in ['events', 'pets', 'politics', 'sports']:\n",
    "        row[0] = 'tech'\n",
    "    elif len(row) == 0:\n",
    "        row.append('tech')\n",
    "        \n",
    "    data.at[i, 'category_tags'] = row"
   ]
  },
  {
   "cell_type": "code",
   "execution_count": 16,
   "metadata": {
    "scrolled": false
   },
   "outputs": [
    {
     "data": {
      "text/plain": [
       "Counter({'books': 310,\n",
       "         'communication': 1463,\n",
       "         'education': 680,\n",
       "         'fashion': 110,\n",
       "         'finance': 1503,\n",
       "         'games': 239,\n",
       "         'hardware': 542,\n",
       "         'health': 592,\n",
       "         'home': 275,\n",
       "         'marketing': 1996,\n",
       "         'media and entertainment': 1362,\n",
       "         'productivity': 1990,\n",
       "         'tech': 1827,\n",
       "         'tools and services': 2680,\n",
       "         'travel': 504})"
      ]
     },
     "execution_count": 16,
     "metadata": {},
     "output_type": "execute_result"
    }
   ],
   "source": [
    "Counter(list(itertools.chain.from_iterable(data.category_tags)))"
   ]
  },
  {
   "cell_type": "code",
   "execution_count": 17,
   "metadata": {},
   "outputs": [
    {
     "name": "stdout",
     "output_type": "stream",
     "text": [
      "1205\n"
     ]
    }
   ],
   "source": [
    "one_cat_count = 0\n",
    "for row in data.category_tags:\n",
    "    if len(row) == 1:\n",
    "        one_cat_count += 1\n",
    "print(str(len(data) - one_cat_count))"
   ]
  },
  {
   "cell_type": "markdown",
   "metadata": {},
   "source": [
    "## Misc Adjustments"
   ]
  },
  {
   "cell_type": "markdown",
   "metadata": {},
   "source": [
    "### Remove timestamps in `release_date`"
   ]
  },
  {
   "cell_type": "code",
   "execution_count": 18,
   "metadata": {
    "scrolled": true
   },
   "outputs": [
    {
     "data": {
      "text/plain": [
       "'2020-09-20 00:00:00.000'"
      ]
     },
     "execution_count": 18,
     "metadata": {},
     "output_type": "execute_result"
    }
   ],
   "source": [
    "data.release_date[6]"
   ]
  },
  {
   "cell_type": "code",
   "execution_count": 19,
   "metadata": {},
   "outputs": [
    {
     "data": {
      "text/plain": [
       "'2020-09-20'"
      ]
     },
     "execution_count": 19,
     "metadata": {},
     "output_type": "execute_result"
    }
   ],
   "source": [
    "data.release_date[6].strip(\"0.:\").strip()"
   ]
  },
  {
   "cell_type": "code",
   "execution_count": 20,
   "metadata": {},
   "outputs": [
    {
     "data": {
      "text/html": [
       "<div>\n",
       "<style scoped>\n",
       "    .dataframe tbody tr th:only-of-type {\n",
       "        vertical-align: middle;\n",
       "    }\n",
       "\n",
       "    .dataframe tbody tr th {\n",
       "        vertical-align: top;\n",
       "    }\n",
       "\n",
       "    .dataframe thead th {\n",
       "        text-align: right;\n",
       "    }\n",
       "</style>\n",
       "<table border=\"1\" class=\"dataframe\">\n",
       "  <thead>\n",
       "    <tr style=\"text-align: right;\">\n",
       "      <th></th>\n",
       "      <th>_id</th>\n",
       "      <th>name</th>\n",
       "      <th>product_description</th>\n",
       "      <th>release_date</th>\n",
       "      <th>product_of_the_day_date</th>\n",
       "      <th>product_ranking</th>\n",
       "      <th>main_image</th>\n",
       "      <th>upvotes</th>\n",
       "      <th>websites</th>\n",
       "      <th>category_tags</th>\n",
       "      <th>hunter</th>\n",
       "      <th>makers</th>\n",
       "    </tr>\n",
       "  </thead>\n",
       "  <tbody>\n",
       "    <tr>\n",
       "      <th>0</th>\n",
       "      <td>https://www.producthunt.com/posts/onsites</td>\n",
       "      <td>Onsites</td>\n",
       "      <td>Onsites helps companies craft the best candida...</td>\n",
       "      <td>2018-02-09</td>\n",
       "      <td>2018-02-09</td>\n",
       "      <td>4.0</td>\n",
       "      <td>https://ph-files.imgix.net/b6483b87-d952-40ff-...</td>\n",
       "      <td>315</td>\n",
       "      <td>['https://www.onsites.co', 'https://tophatter....</td>\n",
       "      <td>[communication]</td>\n",
       "      <td>_shahedk</td>\n",
       "      <td>['jmtame']</td>\n",
       "    </tr>\n",
       "    <tr>\n",
       "      <th>1</th>\n",
       "      <td>https://www.producthunt.com/posts/typito-for-t...</td>\n",
       "      <td>Typito for Teams</td>\n",
       "      <td>With Typito for Teams, you can invite your tea...</td>\n",
       "      <td>2018-11-16</td>\n",
       "      <td>2018-11-16</td>\n",
       "      <td>3.0</td>\n",
       "      <td>https://ph-files.imgix.net/cf9a013a-8ef2-460a-...</td>\n",
       "      <td>441</td>\n",
       "      <td>['https://typito.com/teams', 'http://help.typi...</td>\n",
       "      <td>[marketing]</td>\n",
       "      <td>kevin</td>\n",
       "      <td>['aswin_asok1', 'tejazz89', 'basim_ahmad', 'an...</td>\n",
       "    </tr>\n",
       "    <tr>\n",
       "      <th>2</th>\n",
       "      <td>https://www.producthunt.com/posts/hazel-4-0</td>\n",
       "      <td>Hazel 4.0</td>\n",
       "      <td>NaN</td>\n",
       "      <td>2016-05-04</td>\n",
       "      <td>2016-05-04</td>\n",
       "      <td>3.0</td>\n",
       "      <td>https://ph-files.imgix.net/4ec0e56d-7846-4f89-...</td>\n",
       "      <td>620</td>\n",
       "      <td>['https://www.noodlesoft.com/whatsnew/']</td>\n",
       "      <td>[tech]</td>\n",
       "      <td>t55</td>\n",
       "      <td>[]</td>\n",
       "    </tr>\n",
       "    <tr>\n",
       "      <th>3</th>\n",
       "      <td>https://www.producthunt.com/posts/uhmmm</td>\n",
       "      <td>UHMMM</td>\n",
       "      <td>Those silent moments on online meetings can ge...</td>\n",
       "      <td>2020-10-02</td>\n",
       "      <td>2020-10-02</td>\n",
       "      <td>4.0</td>\n",
       "      <td>https://ph-files.imgix.net/dd425c23-ae92-4d1c-...</td>\n",
       "      <td>324</td>\n",
       "      <td>['https://www.uhmmm.app/']</td>\n",
       "      <td>[communication, media and entertainment]</td>\n",
       "      <td>jonathan_harel1</td>\n",
       "      <td>['jonathan_harel1']</td>\n",
       "    </tr>\n",
       "    <tr>\n",
       "      <th>4</th>\n",
       "      <td>https://www.producthunt.com/posts/numerous</td>\n",
       "      <td>Numerous</td>\n",
       "      <td>NaN</td>\n",
       "      <td>2014-05-01</td>\n",
       "      <td>2014-05-01</td>\n",
       "      <td>2.0</td>\n",
       "      <td>https://ph-files.imgix.net/0de712b1-1da3-4204-...</td>\n",
       "      <td>107</td>\n",
       "      <td>['http://numerousapp.com/', 'https://itunes.ap...</td>\n",
       "      <td>[tech]</td>\n",
       "      <td>alwaysunday</td>\n",
       "      <td>['cwood', 'scalo', 'colinloretz']</td>\n",
       "    </tr>\n",
       "  </tbody>\n",
       "</table>\n",
       "</div>"
      ],
      "text/plain": [
       "                                                 _id              name  \\\n",
       "0          https://www.producthunt.com/posts/onsites           Onsites   \n",
       "1  https://www.producthunt.com/posts/typito-for-t...  Typito for Teams   \n",
       "2        https://www.producthunt.com/posts/hazel-4-0         Hazel 4.0   \n",
       "3            https://www.producthunt.com/posts/uhmmm             UHMMM   \n",
       "4         https://www.producthunt.com/posts/numerous          Numerous   \n",
       "\n",
       "                                 product_description release_date  \\\n",
       "0  Onsites helps companies craft the best candida...   2018-02-09   \n",
       "1  With Typito for Teams, you can invite your tea...   2018-11-16   \n",
       "2                                                NaN   2016-05-04   \n",
       "3  Those silent moments on online meetings can ge...   2020-10-02   \n",
       "4                                                NaN   2014-05-01   \n",
       "\n",
       "  product_of_the_day_date  product_ranking  \\\n",
       "0              2018-02-09              4.0   \n",
       "1              2018-11-16              3.0   \n",
       "2              2016-05-04              3.0   \n",
       "3              2020-10-02              4.0   \n",
       "4              2014-05-01              2.0   \n",
       "\n",
       "                                          main_image  upvotes  \\\n",
       "0  https://ph-files.imgix.net/b6483b87-d952-40ff-...      315   \n",
       "1  https://ph-files.imgix.net/cf9a013a-8ef2-460a-...      441   \n",
       "2  https://ph-files.imgix.net/4ec0e56d-7846-4f89-...      620   \n",
       "3  https://ph-files.imgix.net/dd425c23-ae92-4d1c-...      324   \n",
       "4  https://ph-files.imgix.net/0de712b1-1da3-4204-...      107   \n",
       "\n",
       "                                            websites  \\\n",
       "0  ['https://www.onsites.co', 'https://tophatter....   \n",
       "1  ['https://typito.com/teams', 'http://help.typi...   \n",
       "2           ['https://www.noodlesoft.com/whatsnew/']   \n",
       "3                         ['https://www.uhmmm.app/']   \n",
       "4  ['http://numerousapp.com/', 'https://itunes.ap...   \n",
       "\n",
       "                              category_tags           hunter  \\\n",
       "0                           [communication]         _shahedk   \n",
       "1                               [marketing]            kevin   \n",
       "2                                    [tech]              t55   \n",
       "3  [communication, media and entertainment]  jonathan_harel1   \n",
       "4                                    [tech]      alwaysunday   \n",
       "\n",
       "                                              makers  \n",
       "0                                         ['jmtame']  \n",
       "1  ['aswin_asok1', 'tejazz89', 'basim_ahmad', 'an...  \n",
       "2                                                 []  \n",
       "3                                ['jonathan_harel1']  \n",
       "4                  ['cwood', 'scalo', 'colinloretz']  "
      ]
     },
     "execution_count": 20,
     "metadata": {},
     "output_type": "execute_result"
    }
   ],
   "source": [
    "# remove timestamp, then remove trailing whitespace\n",
    "data['release_date'] = data.release_date.apply(lambda x: x.strip(\"0.:\").strip())\n",
    "data.head(5)"
   ]
  },
  {
   "cell_type": "markdown",
   "metadata": {},
   "source": [
    "### Rename columns"
   ]
  },
  {
   "cell_type": "code",
   "execution_count": 21,
   "metadata": {
    "scrolled": true
   },
   "outputs": [
    {
     "data": {
      "text/html": [
       "<div>\n",
       "<style scoped>\n",
       "    .dataframe tbody tr th:only-of-type {\n",
       "        vertical-align: middle;\n",
       "    }\n",
       "\n",
       "    .dataframe tbody tr th {\n",
       "        vertical-align: top;\n",
       "    }\n",
       "\n",
       "    .dataframe thead th {\n",
       "        text-align: right;\n",
       "    }\n",
       "</style>\n",
       "<table border=\"1\" class=\"dataframe\">\n",
       "  <thead>\n",
       "    <tr style=\"text-align: right;\">\n",
       "      <th></th>\n",
       "      <th>link</th>\n",
       "      <th>name</th>\n",
       "      <th>product_description</th>\n",
       "      <th>release_date</th>\n",
       "      <th>product_of_the_day_date</th>\n",
       "      <th>product_ranking</th>\n",
       "      <th>main_image</th>\n",
       "      <th>upvotes</th>\n",
       "      <th>websites</th>\n",
       "      <th>category_tags</th>\n",
       "      <th>hunter</th>\n",
       "      <th>makers</th>\n",
       "    </tr>\n",
       "  </thead>\n",
       "  <tbody>\n",
       "    <tr>\n",
       "      <th>0</th>\n",
       "      <td>https://www.producthunt.com/posts/onsites</td>\n",
       "      <td>Onsites</td>\n",
       "      <td>Onsites helps companies craft the best candida...</td>\n",
       "      <td>2018-02-09</td>\n",
       "      <td>2018-02-09</td>\n",
       "      <td>4.0</td>\n",
       "      <td>https://ph-files.imgix.net/b6483b87-d952-40ff-...</td>\n",
       "      <td>315</td>\n",
       "      <td>['https://www.onsites.co', 'https://tophatter....</td>\n",
       "      <td>[communication]</td>\n",
       "      <td>_shahedk</td>\n",
       "      <td>['jmtame']</td>\n",
       "    </tr>\n",
       "    <tr>\n",
       "      <th>1</th>\n",
       "      <td>https://www.producthunt.com/posts/typito-for-t...</td>\n",
       "      <td>Typito for Teams</td>\n",
       "      <td>With Typito for Teams, you can invite your tea...</td>\n",
       "      <td>2018-11-16</td>\n",
       "      <td>2018-11-16</td>\n",
       "      <td>3.0</td>\n",
       "      <td>https://ph-files.imgix.net/cf9a013a-8ef2-460a-...</td>\n",
       "      <td>441</td>\n",
       "      <td>['https://typito.com/teams', 'http://help.typi...</td>\n",
       "      <td>[marketing]</td>\n",
       "      <td>kevin</td>\n",
       "      <td>['aswin_asok1', 'tejazz89', 'basim_ahmad', 'an...</td>\n",
       "    </tr>\n",
       "    <tr>\n",
       "      <th>2</th>\n",
       "      <td>https://www.producthunt.com/posts/hazel-4-0</td>\n",
       "      <td>Hazel 4.0</td>\n",
       "      <td>NaN</td>\n",
       "      <td>2016-05-04</td>\n",
       "      <td>2016-05-04</td>\n",
       "      <td>3.0</td>\n",
       "      <td>https://ph-files.imgix.net/4ec0e56d-7846-4f89-...</td>\n",
       "      <td>620</td>\n",
       "      <td>['https://www.noodlesoft.com/whatsnew/']</td>\n",
       "      <td>[tech]</td>\n",
       "      <td>t55</td>\n",
       "      <td>[]</td>\n",
       "    </tr>\n",
       "    <tr>\n",
       "      <th>3</th>\n",
       "      <td>https://www.producthunt.com/posts/uhmmm</td>\n",
       "      <td>UHMMM</td>\n",
       "      <td>Those silent moments on online meetings can ge...</td>\n",
       "      <td>2020-10-02</td>\n",
       "      <td>2020-10-02</td>\n",
       "      <td>4.0</td>\n",
       "      <td>https://ph-files.imgix.net/dd425c23-ae92-4d1c-...</td>\n",
       "      <td>324</td>\n",
       "      <td>['https://www.uhmmm.app/']</td>\n",
       "      <td>[communication, media and entertainment]</td>\n",
       "      <td>jonathan_harel1</td>\n",
       "      <td>['jonathan_harel1']</td>\n",
       "    </tr>\n",
       "    <tr>\n",
       "      <th>4</th>\n",
       "      <td>https://www.producthunt.com/posts/numerous</td>\n",
       "      <td>Numerous</td>\n",
       "      <td>NaN</td>\n",
       "      <td>2014-05-01</td>\n",
       "      <td>2014-05-01</td>\n",
       "      <td>2.0</td>\n",
       "      <td>https://ph-files.imgix.net/0de712b1-1da3-4204-...</td>\n",
       "      <td>107</td>\n",
       "      <td>['http://numerousapp.com/', 'https://itunes.ap...</td>\n",
       "      <td>[tech]</td>\n",
       "      <td>alwaysunday</td>\n",
       "      <td>['cwood', 'scalo', 'colinloretz']</td>\n",
       "    </tr>\n",
       "  </tbody>\n",
       "</table>\n",
       "</div>"
      ],
      "text/plain": [
       "                                                link              name  \\\n",
       "0          https://www.producthunt.com/posts/onsites           Onsites   \n",
       "1  https://www.producthunt.com/posts/typito-for-t...  Typito for Teams   \n",
       "2        https://www.producthunt.com/posts/hazel-4-0         Hazel 4.0   \n",
       "3            https://www.producthunt.com/posts/uhmmm             UHMMM   \n",
       "4         https://www.producthunt.com/posts/numerous          Numerous   \n",
       "\n",
       "                                 product_description release_date  \\\n",
       "0  Onsites helps companies craft the best candida...   2018-02-09   \n",
       "1  With Typito for Teams, you can invite your tea...   2018-11-16   \n",
       "2                                                NaN   2016-05-04   \n",
       "3  Those silent moments on online meetings can ge...   2020-10-02   \n",
       "4                                                NaN   2014-05-01   \n",
       "\n",
       "  product_of_the_day_date  product_ranking  \\\n",
       "0              2018-02-09              4.0   \n",
       "1              2018-11-16              3.0   \n",
       "2              2016-05-04              3.0   \n",
       "3              2020-10-02              4.0   \n",
       "4              2014-05-01              2.0   \n",
       "\n",
       "                                          main_image  upvotes  \\\n",
       "0  https://ph-files.imgix.net/b6483b87-d952-40ff-...      315   \n",
       "1  https://ph-files.imgix.net/cf9a013a-8ef2-460a-...      441   \n",
       "2  https://ph-files.imgix.net/4ec0e56d-7846-4f89-...      620   \n",
       "3  https://ph-files.imgix.net/dd425c23-ae92-4d1c-...      324   \n",
       "4  https://ph-files.imgix.net/0de712b1-1da3-4204-...      107   \n",
       "\n",
       "                                            websites  \\\n",
       "0  ['https://www.onsites.co', 'https://tophatter....   \n",
       "1  ['https://typito.com/teams', 'http://help.typi...   \n",
       "2           ['https://www.noodlesoft.com/whatsnew/']   \n",
       "3                         ['https://www.uhmmm.app/']   \n",
       "4  ['http://numerousapp.com/', 'https://itunes.ap...   \n",
       "\n",
       "                              category_tags           hunter  \\\n",
       "0                           [communication]         _shahedk   \n",
       "1                               [marketing]            kevin   \n",
       "2                                    [tech]              t55   \n",
       "3  [communication, media and entertainment]  jonathan_harel1   \n",
       "4                                    [tech]      alwaysunday   \n",
       "\n",
       "                                              makers  \n",
       "0                                         ['jmtame']  \n",
       "1  ['aswin_asok1', 'tejazz89', 'basim_ahmad', 'an...  \n",
       "2                                                 []  \n",
       "3                                ['jonathan_harel1']  \n",
       "4                  ['cwood', 'scalo', 'colinloretz']  "
      ]
     },
     "execution_count": 21,
     "metadata": {},
     "output_type": "execute_result"
    }
   ],
   "source": [
    "data = data.rename(columns = {'_id': 'link'})\n",
    "data.head(5)"
   ]
  },
  {
   "cell_type": "markdown",
   "metadata": {},
   "source": [
    "## Output"
   ]
  },
  {
   "cell_type": "code",
   "execution_count": 22,
   "metadata": {},
   "outputs": [],
   "source": [
    "data.to_csv('processed.csv', index = False)"
   ]
  },
  {
   "cell_type": "code",
   "execution_count": 23,
   "metadata": {},
   "outputs": [
    {
     "data": {
      "text/plain": [
       "14682"
      ]
     },
     "execution_count": 23,
     "metadata": {},
     "output_type": "execute_result"
    }
   ],
   "source": [
    "len(data)"
   ]
  },
  {
   "cell_type": "code",
   "execution_count": null,
   "metadata": {},
   "outputs": [],
   "source": []
  }
 ],
 "metadata": {
  "kernelspec": {
   "display_name": "Python 3",
   "language": "python",
   "name": "python3"
  },
  "language_info": {
   "codemirror_mode": {
    "name": "ipython",
    "version": 3
   },
   "file_extension": ".py",
   "mimetype": "text/x-python",
   "name": "python",
   "nbconvert_exporter": "python",
   "pygments_lexer": "ipython3",
   "version": "3.6.5"
  }
 },
 "nbformat": 4,
 "nbformat_minor": 2
}
